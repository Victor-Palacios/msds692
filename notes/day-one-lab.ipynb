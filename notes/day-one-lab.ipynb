{
 "cells": [
  {
   "cell_type": "markdown",
   "metadata": {},
   "source": [
    "# Day One: Sample data acquisition skill\n",
    "\n",
    "I'm teaching this class from the fundamentals upwards, which means that we study data formats and how the Internet works so that we can properly learn to scrape data from the web and use web APIs.   A problem with that approach is that it leaves some of the really cool stuff towards the end of the class. To mitigate this, I like to motivate the work you will do over the next few weeks by providing a simple example of how easy it is to go collected data from a cooperative website.  Most websites are uncooperative and so we have to learn to deal with those, which we will do during the class.  For now, let's figure out how to scrape some [data on the coronavirus from Wikipedia](https://en.wikipedia.org/wiki/COVID-19_pandemic_by_country_and_territory).\n",
    "\n",
    "I'd like everyone to read through this notebook and manually type all the code into your own notebook. This will give you some idea of where we are going and how straightforward it is in many cases."
   ]
  },
  {
   "cell_type": "markdown",
   "metadata": {},
   "source": [
    "## Inspect the first table element\n",
    "\n",
    "Using Chrome, go to URL:\n",
    "\n",
    "[https://en.wikipedia.org/wiki/COVID-19_pandemic_by_country_and_territory](https://en.wikipedia.org/wiki/COVID-19_pandemic_by_country_and_territory)\n",
    "\n",
    "and then right-click on the start of the table in the right gutter of the Wikipedia page and select <b>Inspect</b> from the drop-down menu. It should something that looks like this:\n",
    "\n",
    "<img src=\"figures/covid-inspect.png\" width=\"70%\">\n",
    "\n",
    "That shows you the raw HTML and what it corresponds to visually.  The next step is to use a program to extract that HTML."
   ]
  },
  {
   "cell_type": "markdown",
   "metadata": {},
   "source": [
    "## Get the raw HTML from the website"
   ]
  },
  {
   "cell_type": "code",
   "execution_count": 4,
   "metadata": {},
   "outputs": [],
   "source": [
    "!pip install -q -U requests              # we need these libraries\n",
    "!pip install -q -U beautifulsoup4"
   ]
  },
  {
   "cell_type": "code",
   "execution_count": 5,
   "metadata": {},
   "outputs": [
    {
     "name": "stdout",
     "output_type": "stream",
     "text": [
      "<!DOCTYPE html>\n",
      "<html class=\"client-nojs\" lang=\"en\" dir=\"ltr\">\n",
      "<head>\n",
      "<meta charset=\"UTF-8\"/>\n",
      "<title>COVID-19 pandemic by country and territory - Wikipedia</title>\n",
      "<script>document.documentElement.className=\"client-js\";RLCONF={\"wgBreakFrames\":!1,\"wgSeparatorTransformTable\":[\"\",\"\"],\"wgDigitTransformTable\":[\"\",\"\"],\"wgDefaultDateFormat\":\"dmy\",\"wgMonthNames\":[\"\",\"January\",\"February\",\"March\",\"April\",\"May\",\"June\",\"July\",\"August\",\"September\",\"October\",\"November\",\"December\"],\"wgRequestId\":\"612b9df7-e733-425f-a335-805d6eee4a4f\",\"wgCSPNonce\":!1,\"wgCanonicalNamespace\":\"\",\"wgCanonicalSpecialPageName\":!1,\"wgNamespaceNumber\":0,\"wgPageName\":\"COVID-19_pandemic_by_country_and_territory\",\"wgTitle\":\"COVID-19 pandemic by country and territory\",\"wgCurRevisionId\":983068035,\"wgRevisionId\":983068035,\"wgArticleId\":62938755,\"wgIsArticle\":!0,\"wgIsRedirect\":!1,\"wgAction\":\"view\",\"wgUserName\":null,\"wgUserGroups\":[\"*\"],\"wgCategories\":[\"Articles containing potentially dated statements from October 2020\",\"All articles\n"
     ]
    }
   ],
   "source": [
    "import requests\n",
    "\n",
    "CovidURL = \"https://en.wikipedia.org/wiki/COVID-19_pandemic_by_country_and_territory\"\n",
    "response = requests.get(CovidURL)\n",
    "print(response.text[0:1000])"
   ]
  },
  {
   "cell_type": "markdown",
   "metadata": {},
   "source": [
    "## Get specific tag using BeautifulSoup\n",
    "\n",
    "Now let's treat the text as HTML not just English text.  Then we can ask for a specific tag such as the title:"
   ]
  },
  {
   "cell_type": "code",
   "execution_count": 6,
   "metadata": {},
   "outputs": [
    {
     "name": "stdout",
     "output_type": "stream",
     "text": [
      "TITLE <title>COVID-19 pandemic by country and territory - Wikipedia</title>\n"
     ]
    }
   ],
   "source": [
    "from bs4 import BeautifulSoup\n",
    "\n",
    "soup = BeautifulSoup(response.text, \"html.parser\")\n",
    "title = soup.find('title')\n",
    "print(\"TITLE\", title)"
   ]
  },
  {
   "cell_type": "markdown",
   "metadata": {},
   "source": [
    "##  Get all text elements from all HTML tags\n",
    "\n",
    "We can also ask for all of the text elements not inside HTML tags:"
   ]
  },
  {
   "cell_type": "code",
   "execution_count": 7,
   "metadata": {},
   "outputs": [
    {
     "name": "stdout",
     "output_type": "stream",
     "text": [
      "\n",
      "\n",
      "\n",
      "\n",
      "COVID-19 pandemic by country and territory - Wikipedia\n",
      "\n",
      "\n",
      "\n",
      "\n",
      "\n",
      "\n",
      "\n",
      "\n",
      "\n",
      "\n",
      "\n",
      "\n",
      "\n",
      "\n",
      "\n",
      "\n",
      "\n",
      "\n",
      "\n",
      "\n",
      "\n",
      "\n",
      "\n",
      "\n",
      "\n",
      "\n",
      "\n",
      "\n",
      "\n",
      "COVID-19 pandemic by country and territory\n",
      "\n",
      "From Wikipedia, the free encyclopedia\n",
      "\n",
      "\n",
      "\n",
      "Jump to navigation\n",
      "Jump to search\n",
      "Wikimedia list article\n",
      "This article is about the status of the outbreak in different locations by continent and conveyance around the world. For further information, see National responses to the COVID-19 pandemic.\n",
      "\n",
      "\n",
      "COVID-19 pandemicConfirmed cases per 100,000 population as of 12 October 2020\n",
      "  >3,000  1,000–3,000  300–1,000  100–300  30–100  0–30  None or no data\n",
      "DiseaseCoronavirus disease 2019 (COVID-19)Virus strainSevere acute respiratory syndromecoronavirus 2 (SARS-CoV-2)SourceProbably bats, possibly via pangolins[1][2]LocationWorldwideFirst outbreakMainland China[3]Index caseWuhan, Hubei, China30°37′11″N 114°15′28″E﻿ / ﻿30.61972°N 114.25778°E﻿ / 30.61972; 114.25778Date1 December 2019 (2019-12-01)[3]–present(10 months, 1 week and 5 days)Confirmed cases37,894,452[4]Active cases1\n"
     ]
    }
   ],
   "source": [
    "print(soup.text[0:1000])"
   ]
  },
  {
   "cell_type": "markdown",
   "metadata": {},
   "source": [
    "## Find all tables\n",
    "\n",
    "BeautifulSoup has a mechanism to find all of the tables (HTML `table` text) in an HTML document:"
   ]
  },
  {
   "cell_type": "code",
   "execution_count": 8,
   "metadata": {},
   "outputs": [],
   "source": [
    "tables = soup.findAll('table')"
   ]
  },
  {
   "cell_type": "markdown",
   "metadata": {},
   "source": [
    "The first table looks like this on the page:\n",
    " \n",
    "<img src=\"figures/covid-table-0.png\" width=\"40%\">\n",
    "\n",
    "and we can get the HTML representing each table:"
   ]
  },
  {
   "cell_type": "code",
   "execution_count": 9,
   "metadata": {},
   "outputs": [
    {
     "name": "stdout",
     "output_type": "stream",
     "text": [
      "<table class=\"infobox\" style=\"width:22em\"><tbody><tr><th colspan=\"2\" style=\"text-align:center;font-size:125%;font-weight:bold;background:#FFCCCB\">COVID-19 pandemic</th></tr><tr><td colspan=\"2\" style=\"text-align:center;border-bottom:#aaa 1px solid;\"><a class=\"image\" href=\"/wiki/File:COVID-19_Outbreak_World_Map_per_Capita.svg\"><img alt=\"COVID-19 Outbreak World Map per Capita.svg\" data-file-height=\"1500\" data-file-width=\"2921\" decoding=\"async\" height=\"169\" src=\"//upload.wikimedia.org/wikipedia/commons/thumb/3/3b/COVID-19_Outbreak_World_Map_per_Capita.svg/330px-COVID-19_Outbreak_World_Map_per_Capita.svg.png\" srcset=\"//upload.wikimedia.org/wikipedia/commons/thumb/3/3b/COVID-19_Outbreak_World_Map_per_Capita.svg/495px-COVID-19_Outbreak_World_Map_per_Capita.svg.png 1.5x, //upload.wikimedia.org/wikipedia/commons/thumb/3/3b/COVID-19_Outbreak_World_Map_per_Capita.svg/660px-COVID-19_Outbreak_World_Map_per_Capita.svg.png 2x\" width=\"330\"/></a><div style=\"text-align:left;\"><div class=\"center\" style=\"\n"
     ]
    }
   ],
   "source": [
    "t = str(tables[0])\n",
    "print(t[0:1000])"
   ]
  },
  {
   "cell_type": "markdown",
   "metadata": {},
   "source": [
    "That is raw HTML representing the table, but we can use a Jupyter notebook trick to display that text as HTML:"
   ]
  },
  {
   "cell_type": "code",
   "execution_count": 10,
   "metadata": {},
   "outputs": [
    {
     "data": {
      "text/html": [
       "<table class=\"infobox\" style=\"width:22em\"><tbody><tr><th colspan=\"2\" style=\"text-align:center;font-size:125%;font-weight:bold;background:#FFCCCB\">COVID-19 pandemic</th></tr><tr><td colspan=\"2\" style=\"text-align:center;border-bottom:#aaa 1px solid;\"><a class=\"image\" href=\"/wiki/File:COVID-19_Outbreak_World_Map_per_Capita.svg\"><img alt=\"COVID-19 Outbreak World Map per Capita.svg\" data-file-height=\"1500\" data-file-width=\"2921\" decoding=\"async\" height=\"169\" src=\"//upload.wikimedia.org/wikipedia/commons/thumb/3/3b/COVID-19_Outbreak_World_Map_per_Capita.svg/330px-COVID-19_Outbreak_World_Map_per_Capita.svg.png\" srcset=\"//upload.wikimedia.org/wikipedia/commons/thumb/3/3b/COVID-19_Outbreak_World_Map_per_Capita.svg/495px-COVID-19_Outbreak_World_Map_per_Capita.svg.png 1.5x, //upload.wikimedia.org/wikipedia/commons/thumb/3/3b/COVID-19_Outbreak_World_Map_per_Capita.svg/660px-COVID-19_Outbreak_World_Map_per_Capita.svg.png 2x\" width=\"330\"/></a><div style=\"text-align:left;\"><div class=\"center\" style=\"width:auto; margin-left:auto; margin-right:auto;\">Confirmed cases per 100,000 population as of 12 October 2020</div>\n",
       "<div class=\"div-col columns column-width\" style=\"-moz-column-width: 8em; -webkit-column-width: 8em; column-width: 8em; -moz-column-gap: 0; -webkit-column-gap: 0; column-gap: 0; padding-left:3em;padding-bottom:5px;\"><div class=\"plainlist\"><ul><li style=\"margin: 0;\"><style data-mw-deduplicate=\"TemplateStyles:r981673959\">.mw-parser-output .legend{page-break-inside:avoid;break-inside:avoid-column}.mw-parser-output .legend-color{display:inline-block;min-width:1.25em;height:1.25em;line-height:1.25;margin:1px 0;text-align:center;border:1px solid black;background-color:transparent;color:black}.mw-parser-output .legend-text{}</style><span class=\"legend\"><span class=\"legend-color\" style=\"background-color:#510000; color:white;\"> </span> &gt;3,000</span></li><li style=\"margin: 0;\"><link href=\"mw-data:TemplateStyles:r981673959\" rel=\"mw-deduplicated-inline-style\"/><span class=\"legend\"><span class=\"legend-color\" style=\"background-color:#900000; color:white;\"> </span> 1,000–3,000</span></li><li style=\"margin: 0;\"><link href=\"mw-data:TemplateStyles:r981673959\" rel=\"mw-deduplicated-inline-style\"/><span class=\"legend\"><span class=\"legend-color\" style=\"background-color:#c80200; color:white;\"> </span> 300–1,000</span></li><li style=\"margin: 0;\"><link href=\"mw-data:TemplateStyles:r981673959\" rel=\"mw-deduplicated-inline-style\"/><span class=\"legend\"><span class=\"legend-color\" style=\"background-color:#ee7070; color:black;\"> </span> 100–300</span></li><li style=\"margin: 0;\"><link href=\"mw-data:TemplateStyles:r981673959\" rel=\"mw-deduplicated-inline-style\"/><span class=\"legend\"><span class=\"legend-color\" style=\"background-color:#ffc0c0; color:black;\"> </span> 30–100</span></li><li style=\"margin: 0;\"><link href=\"mw-data:TemplateStyles:r981673959\" rel=\"mw-deduplicated-inline-style\"/><span class=\"legend\"><span class=\"legend-color\" style=\"background-color:#ffdfe0; color:black;\"> </span> 0–30</span></li><li style=\"margin: 0;\"><link href=\"mw-data:TemplateStyles:r981673959\" rel=\"mw-deduplicated-inline-style\"/><span class=\"legend\"><span class=\"legend-color\" style=\"background-color:#e0e0e0; color:black;\"> </span> None or no data</span></li></ul></div>\n",
       "</div></div></td></tr><tr><th scope=\"row\">Disease</th><td><a href=\"/wiki/Coronavirus_disease_2019\" title=\"Coronavirus disease 2019\">Coronavirus disease 2019</a> (COVID-19)</td></tr><tr><th scope=\"row\">Virus strain</th><td><a href=\"/wiki/Severe_acute_respiratory_syndrome_coronavirus_2\" title=\"Severe acute respiratory syndrome coronavirus 2\">Severe acute respiratory syndrome<br/>coronavirus 2</a> (SARS-CoV-2)</td></tr><tr><th scope=\"row\">Source</th><td>Probably bats, possibly via <a href=\"/wiki/Pangolin\" title=\"Pangolin\">pangolins</a><sup class=\"reference\" id=\"cite_ref-reuters223180_1-0\"><a href=\"#cite_note-reuters223180-1\">[1]</a></sup><sup class=\"reference\" id=\"cite_ref-2\"><a href=\"#cite_note-2\">[2]</a></sup></td></tr><tr><th scope=\"row\">Location</th><td><a href=\"/wiki/World\" title=\"World\">Worldwide</a></td></tr><tr><th scope=\"row\">First outbreak</th><td><a href=\"/wiki/Mainland_China\" title=\"Mainland China\">Mainland China</a><sup class=\"reference\" id=\"cite_ref-auto_3-0\"><a href=\"#cite_note-auto-3\">[3]</a></sup></td></tr><tr><th scope=\"row\"><a href=\"/wiki/Index_case\" title=\"Index case\">Index case</a></th><td><a href=\"/wiki/Wuhan\" title=\"Wuhan\">Wuhan</a>, <a href=\"/wiki/Hubei\" title=\"Hubei\">Hubei</a>, <a href=\"/wiki/China\" title=\"China\">China</a><br/><span class=\"plainlinks nourlexpansion\"><a class=\"external text\" href=\"//geohack.toolforge.org/geohack.php?pagename=COVID-19_pandemic_by_country_and_territory&amp;params=30_37_11_N_114_15_28_E_type:adm2nd_region:CN-42\" rel=\"nofollow\"><span class=\"geo-default\"><span class=\"geo-dms\" title=\"Maps, aerial photos, and other data for this location\"><span class=\"latitude\">30°37′11″N</span> <span class=\"longitude\">114°15′28″E</span></span></span><span class=\"geo-multi-punct\">﻿ / ﻿</span><span class=\"geo-nondefault\"><span class=\"geo-dec\" title=\"Maps, aerial photos, and other data for this location\">30.61972°N 114.25778°E</span><span style=\"display:none\">﻿ / <span class=\"geo\">30.61972; 114.25778</span></span></span></a></span></td></tr><tr><th scope=\"row\">Date</th><td>1 December 2019<span style=\"display:none\"> (<span class=\"bday dtstart published updated\">2019-12-01</span>)</span><sup class=\"reference\" id=\"cite_ref-auto_3-1\"><a href=\"#cite_note-auto-3\">[3]</a></sup>–present<br/>(10 months, 1 week and 5 days)</td></tr><tr><th scope=\"row\">Confirmed cases</th><td>37,894,452<sup class=\"reference\" id=\"cite_ref-JHU_ticker_4-0\"><a href=\"#cite_note-JHU_ticker-4\">[4]</a></sup></td></tr><tr><th scope=\"row\">Active cases</th><td>10,483,291<sup class=\"reference\" id=\"cite_ref-JHU_ticker_4-1\"><a href=\"#cite_note-JHU_ticker-4\">[4]</a></sup></td></tr><tr><th scope=\"row\">Recovered</th><td>26,328,960<sup class=\"reference\" id=\"cite_ref-JHU_ticker_4-2\"><a href=\"#cite_note-JHU_ticker-4\">[4]</a></sup></td></tr><tr><th scope=\"row\"><div style=\"display:inline-block; padding:0.1em 0;line-height:1.2em;\">Deaths</div></th><td>1,082,201<sup class=\"reference\" id=\"cite_ref-JHU_ticker_4-3\"><a href=\"#cite_note-JHU_ticker-4\">[4]</a></sup></td></tr><tr><th scope=\"row\"><div style=\"display:inline-block; padding:0.1em 0;line-height:1.2em;\">Territories</div></th><td>188<sup class=\"reference\" id=\"cite_ref-JHU_ticker_4-4\"><a href=\"#cite_note-JHU_ticker-4\">[4]</a></sup></td></tr></tbody></table>"
      ],
      "text/plain": [
       "<IPython.core.display.HTML object>"
      ]
     },
     "execution_count": 10,
     "metadata": {},
     "output_type": "execute_result"
    }
   ],
   "source": [
    "from IPython.display import HTML # IPython is the underlying Python interpreter used by this notebook\n",
    "HTML(t)                          # Render the text in t as HTML"
   ]
  },
  {
   "cell_type": "markdown",
   "metadata": {},
   "source": [
    "## Using Pandas to read a URL to extract tables\n",
    "\n",
    "Pandas has a built-in mechanism to read a URL and extract all the table tags into dataframes. Extremely handy."
   ]
  },
  {
   "cell_type": "code",
   "execution_count": 11,
   "metadata": {},
   "outputs": [],
   "source": [
    "import pandas as pd\n",
    "\n",
    "tables = pd.read_html(CovidURL)"
   ]
  },
  {
   "cell_type": "markdown",
   "metadata": {},
   "source": [
    "The first table again looks like this on the page:\n",
    " \n",
    "<img src=\"figures/covid-table-0.png\" width=\"40%\">"
   ]
  },
  {
   "cell_type": "markdown",
   "metadata": {},
   "source": [
    "And pandas can pull that into a data frame:"
   ]
  },
  {
   "cell_type": "code",
   "execution_count": 12,
   "metadata": {},
   "outputs": [
    {
     "data": {
      "text/html": [
       "<div>\n",
       "<style scoped>\n",
       "    .dataframe tbody tr th:only-of-type {\n",
       "        vertical-align: middle;\n",
       "    }\n",
       "\n",
       "    .dataframe tbody tr th {\n",
       "        vertical-align: top;\n",
       "    }\n",
       "\n",
       "    .dataframe thead th {\n",
       "        text-align: right;\n",
       "    }\n",
       "</style>\n",
       "<table border=\"1\" class=\"dataframe\">\n",
       "  <thead>\n",
       "    <tr style=\"text-align: right;\">\n",
       "      <th></th>\n",
       "      <th>COVID-19 pandemic</th>\n",
       "      <th>COVID-19 pandemic.1</th>\n",
       "    </tr>\n",
       "  </thead>\n",
       "  <tbody>\n",
       "    <tr>\n",
       "      <th>0</th>\n",
       "      <td>Confirmed cases per 100,000 population as of 1...</td>\n",
       "      <td>Confirmed cases per 100,000 population as of 1...</td>\n",
       "    </tr>\n",
       "    <tr>\n",
       "      <th>1</th>\n",
       "      <td>Disease</td>\n",
       "      <td>Coronavirus disease 2019 (COVID-19)</td>\n",
       "    </tr>\n",
       "    <tr>\n",
       "      <th>2</th>\n",
       "      <td>Virus strain</td>\n",
       "      <td>Severe acute respiratory syndromecoronavirus 2...</td>\n",
       "    </tr>\n",
       "    <tr>\n",
       "      <th>3</th>\n",
       "      <td>Source</td>\n",
       "      <td>Probably bats, possibly via pangolins[1][2]</td>\n",
       "    </tr>\n",
       "    <tr>\n",
       "      <th>4</th>\n",
       "      <td>Location</td>\n",
       "      <td>Worldwide</td>\n",
       "    </tr>\n",
       "    <tr>\n",
       "      <th>5</th>\n",
       "      <td>First outbreak</td>\n",
       "      <td>Mainland China[3]</td>\n",
       "    </tr>\n",
       "    <tr>\n",
       "      <th>6</th>\n",
       "      <td>Index case</td>\n",
       "      <td>Wuhan, Hubei, China30°37′11″N 114°15′28″E﻿ / ﻿...</td>\n",
       "    </tr>\n",
       "    <tr>\n",
       "      <th>7</th>\n",
       "      <td>Date</td>\n",
       "      <td>1 December 2019[3]–present(10 months, 1 week a...</td>\n",
       "    </tr>\n",
       "    <tr>\n",
       "      <th>8</th>\n",
       "      <td>Confirmed cases</td>\n",
       "      <td>37,894,452[4]</td>\n",
       "    </tr>\n",
       "    <tr>\n",
       "      <th>9</th>\n",
       "      <td>Active cases</td>\n",
       "      <td>10,483,291[4]</td>\n",
       "    </tr>\n",
       "    <tr>\n",
       "      <th>10</th>\n",
       "      <td>Recovered</td>\n",
       "      <td>26,328,960[4]</td>\n",
       "    </tr>\n",
       "    <tr>\n",
       "      <th>11</th>\n",
       "      <td>Deaths</td>\n",
       "      <td>1,082,201[4]</td>\n",
       "    </tr>\n",
       "    <tr>\n",
       "      <th>12</th>\n",
       "      <td>Territories</td>\n",
       "      <td>188[4]</td>\n",
       "    </tr>\n",
       "  </tbody>\n",
       "</table>\n",
       "</div>"
      ],
      "text/plain": [
       "                                    COVID-19 pandemic  \\\n",
       "0   Confirmed cases per 100,000 population as of 1...   \n",
       "1                                             Disease   \n",
       "2                                        Virus strain   \n",
       "3                                              Source   \n",
       "4                                            Location   \n",
       "5                                      First outbreak   \n",
       "6                                          Index case   \n",
       "7                                                Date   \n",
       "8                                     Confirmed cases   \n",
       "9                                        Active cases   \n",
       "10                                          Recovered   \n",
       "11                                             Deaths   \n",
       "12                                        Territories   \n",
       "\n",
       "                                  COVID-19 pandemic.1  \n",
       "0   Confirmed cases per 100,000 population as of 1...  \n",
       "1                 Coronavirus disease 2019 (COVID-19)  \n",
       "2   Severe acute respiratory syndromecoronavirus 2...  \n",
       "3         Probably bats, possibly via pangolins[1][2]  \n",
       "4                                           Worldwide  \n",
       "5                                   Mainland China[3]  \n",
       "6   Wuhan, Hubei, China30°37′11″N 114°15′28″E﻿ / ﻿...  \n",
       "7   1 December 2019[3]–present(10 months, 1 week a...  \n",
       "8                                       37,894,452[4]  \n",
       "9                                       10,483,291[4]  \n",
       "10                                      26,328,960[4]  \n",
       "11                                       1,082,201[4]  \n",
       "12                                             188[4]  "
      ]
     },
     "execution_count": 12,
     "metadata": {},
     "output_type": "execute_result"
    }
   ],
   "source": [
    "tables[0]"
   ]
  },
  {
   "cell_type": "markdown",
   "metadata": {},
   "source": [
    "The second table looks like:\n",
    "\n",
    "<img src=\"figures/covid-table-1.png\" width=\"40%\">\n",
    "\n",
    "and we get a nice data frame from it too:"
   ]
  },
  {
   "cell_type": "code",
   "execution_count": 13,
   "metadata": {},
   "outputs": [
    {
     "data": {
      "text/html": [
       "<div>\n",
       "<style scoped>\n",
       "    .dataframe tbody tr th:only-of-type {\n",
       "        vertical-align: middle;\n",
       "    }\n",
       "\n",
       "    .dataframe tbody tr th {\n",
       "        vertical-align: top;\n",
       "    }\n",
       "\n",
       "    .dataframe thead tr th {\n",
       "        text-align: left;\n",
       "    }\n",
       "</style>\n",
       "<table border=\"1\" class=\"dataframe\">\n",
       "  <thead>\n",
       "    <tr>\n",
       "      <th></th>\n",
       "      <th colspan=\"2\" halign=\"left\">Location[a]</th>\n",
       "      <th>Cases[b]</th>\n",
       "      <th>Deaths[c]</th>\n",
       "      <th>Recov.[d]</th>\n",
       "      <th>Ref.</th>\n",
       "    </tr>\n",
       "    <tr>\n",
       "      <th></th>\n",
       "      <th>Unnamed: 0_level_1</th>\n",
       "      <th>World[e]</th>\n",
       "      <th>37,894,452</th>\n",
       "      <th>1,082,201</th>\n",
       "      <th>26,328,960</th>\n",
       "      <th>[4]</th>\n",
       "    </tr>\n",
       "  </thead>\n",
       "  <tbody>\n",
       "    <tr>\n",
       "      <th>0</th>\n",
       "      <td>NaN</td>\n",
       "      <td>United States[f]</td>\n",
       "      <td>7903918</td>\n",
       "      <td>218486</td>\n",
       "      <td>5047743</td>\n",
       "      <td>[13][14]</td>\n",
       "    </tr>\n",
       "    <tr>\n",
       "      <th>1</th>\n",
       "      <td>NaN</td>\n",
       "      <td>India</td>\n",
       "      <td>7175880</td>\n",
       "      <td>109856</td>\n",
       "      <td>6227295</td>\n",
       "      <td>[15]</td>\n",
       "    </tr>\n",
       "    <tr>\n",
       "      <th>2</th>\n",
       "      <td>NaN</td>\n",
       "      <td>Brazil</td>\n",
       "      <td>5103408</td>\n",
       "      <td>150709</td>\n",
       "      <td>4495269</td>\n",
       "      <td>[16][17]</td>\n",
       "    </tr>\n",
       "    <tr>\n",
       "      <th>3</th>\n",
       "      <td>NaN</td>\n",
       "      <td>Russia[g]</td>\n",
       "      <td>1326178</td>\n",
       "      <td>22966</td>\n",
       "      <td>1031785</td>\n",
       "      <td>[18]</td>\n",
       "    </tr>\n",
       "    <tr>\n",
       "      <th>4</th>\n",
       "      <td>NaN</td>\n",
       "      <td>Colombia</td>\n",
       "      <td>919083</td>\n",
       "      <td>27985</td>\n",
       "      <td>798396</td>\n",
       "      <td>[19]</td>\n",
       "    </tr>\n",
       "    <tr>\n",
       "      <th>...</th>\n",
       "      <td>...</td>\n",
       "      <td>...</td>\n",
       "      <td>...</td>\n",
       "      <td>...</td>\n",
       "      <td>...</td>\n",
       "      <td>...</td>\n",
       "    </tr>\n",
       "    <tr>\n",
       "      <th>227</th>\n",
       "      <td>NaN</td>\n",
       "      <td>Anguilla</td>\n",
       "      <td>3</td>\n",
       "      <td>0</td>\n",
       "      <td>3</td>\n",
       "      <td>[329]</td>\n",
       "    </tr>\n",
       "    <tr>\n",
       "      <th>228</th>\n",
       "      <td>NaN</td>\n",
       "      <td>Solomon Islands</td>\n",
       "      <td>2</td>\n",
       "      <td>0</td>\n",
       "      <td>0</td>\n",
       "      <td>[330]</td>\n",
       "    </tr>\n",
       "    <tr>\n",
       "      <th>229</th>\n",
       "      <td>NaN</td>\n",
       "      <td>Tanzania[be]</td>\n",
       "      <td>No data</td>\n",
       "      <td>No data</td>\n",
       "      <td>No data</td>\n",
       "      <td>[332][333]</td>\n",
       "    </tr>\n",
       "    <tr>\n",
       "      <th>230</th>\n",
       "      <td>As of 12 October 2020 (UTC) · History of cases...</td>\n",
       "      <td>As of 12 October 2020 (UTC) · History of cases...</td>\n",
       "      <td>As of 12 October 2020 (UTC) · History of cases...</td>\n",
       "      <td>As of 12 October 2020 (UTC) · History of cases...</td>\n",
       "      <td>As of 12 October 2020 (UTC) · History of cases...</td>\n",
       "      <td>As of 12 October 2020 (UTC) · History of cases...</td>\n",
       "    </tr>\n",
       "    <tr>\n",
       "      <th>231</th>\n",
       "      <td>Notes ^ Location: Countries, territories, and ...</td>\n",
       "      <td>Notes ^ Location: Countries, territories, and ...</td>\n",
       "      <td>Notes ^ Location: Countries, territories, and ...</td>\n",
       "      <td>Notes ^ Location: Countries, territories, and ...</td>\n",
       "      <td>Notes ^ Location: Countries, territories, and ...</td>\n",
       "      <td>Notes ^ Location: Countries, territories, and ...</td>\n",
       "    </tr>\n",
       "  </tbody>\n",
       "</table>\n",
       "<p>232 rows × 6 columns</p>\n",
       "</div>"
      ],
      "text/plain": [
       "                                           Location[a]  \\\n",
       "                                    Unnamed: 0_level_1   \n",
       "0                                                  NaN   \n",
       "1                                                  NaN   \n",
       "2                                                  NaN   \n",
       "3                                                  NaN   \n",
       "4                                                  NaN   \n",
       "..                                                 ...   \n",
       "227                                                NaN   \n",
       "228                                                NaN   \n",
       "229                                                NaN   \n",
       "230  As of 12 October 2020 (UTC) · History of cases...   \n",
       "231  Notes ^ Location: Countries, territories, and ...   \n",
       "\n",
       "                                                        \\\n",
       "                                              World[e]   \n",
       "0                                     United States[f]   \n",
       "1                                                India   \n",
       "2                                               Brazil   \n",
       "3                                            Russia[g]   \n",
       "4                                             Colombia   \n",
       "..                                                 ...   \n",
       "227                                           Anguilla   \n",
       "228                                    Solomon Islands   \n",
       "229                                       Tanzania[be]   \n",
       "230  As of 12 October 2020 (UTC) · History of cases...   \n",
       "231  Notes ^ Location: Countries, territories, and ...   \n",
       "\n",
       "                                              Cases[b]  \\\n",
       "                                            37,894,452   \n",
       "0                                              7903918   \n",
       "1                                              7175880   \n",
       "2                                              5103408   \n",
       "3                                              1326178   \n",
       "4                                               919083   \n",
       "..                                                 ...   \n",
       "227                                                  3   \n",
       "228                                                  2   \n",
       "229                                            No data   \n",
       "230  As of 12 October 2020 (UTC) · History of cases...   \n",
       "231  Notes ^ Location: Countries, territories, and ...   \n",
       "\n",
       "                                             Deaths[c]  \\\n",
       "                                             1,082,201   \n",
       "0                                               218486   \n",
       "1                                               109856   \n",
       "2                                               150709   \n",
       "3                                                22966   \n",
       "4                                                27985   \n",
       "..                                                 ...   \n",
       "227                                                  0   \n",
       "228                                                  0   \n",
       "229                                            No data   \n",
       "230  As of 12 October 2020 (UTC) · History of cases...   \n",
       "231  Notes ^ Location: Countries, territories, and ...   \n",
       "\n",
       "                                             Recov.[d]  \\\n",
       "                                            26,328,960   \n",
       "0                                              5047743   \n",
       "1                                              6227295   \n",
       "2                                              4495269   \n",
       "3                                              1031785   \n",
       "4                                               798396   \n",
       "..                                                 ...   \n",
       "227                                                  3   \n",
       "228                                                  0   \n",
       "229                                            No data   \n",
       "230  As of 12 October 2020 (UTC) · History of cases...   \n",
       "231  Notes ^ Location: Countries, territories, and ...   \n",
       "\n",
       "                                                  Ref.  \n",
       "                                                   [4]  \n",
       "0                                             [13][14]  \n",
       "1                                                 [15]  \n",
       "2                                             [16][17]  \n",
       "3                                                 [18]  \n",
       "4                                                 [19]  \n",
       "..                                                 ...  \n",
       "227                                              [329]  \n",
       "228                                              [330]  \n",
       "229                                         [332][333]  \n",
       "230  As of 12 October 2020 (UTC) · History of cases...  \n",
       "231  Notes ^ Location: Countries, territories, and ...  \n",
       "\n",
       "[232 rows x 6 columns]"
      ]
     },
     "execution_count": 13,
     "metadata": {},
     "output_type": "execute_result"
    }
   ],
   "source": [
    "tables[1]"
   ]
  },
  {
   "cell_type": "markdown",
   "metadata": {},
   "source": [
    "The third table looks like this:\n",
    "\n",
    "<img src=\"figures/covid-table-2.png\" width=\"40%\">"
   ]
  },
  {
   "cell_type": "code",
   "execution_count": 14,
   "metadata": {},
   "outputs": [
    {
     "data": {
      "text/html": [
       "<div>\n",
       "<style scoped>\n",
       "    .dataframe tbody tr th:only-of-type {\n",
       "        vertical-align: middle;\n",
       "    }\n",
       "\n",
       "    .dataframe tbody tr th {\n",
       "        vertical-align: top;\n",
       "    }\n",
       "\n",
       "    .dataframe thead th {\n",
       "        text-align: right;\n",
       "    }\n",
       "</style>\n",
       "<table border=\"1\" class=\"dataframe\">\n",
       "  <thead>\n",
       "    <tr style=\"text-align: right;\">\n",
       "      <th></th>\n",
       "      <th>Country</th>\n",
       "      <th>Confirmed cases</th>\n",
       "      <th>Deaths</th>\n",
       "      <th>Case fatality rate</th>\n",
       "      <th>Deaths per 100,000 population</th>\n",
       "    </tr>\n",
       "  </thead>\n",
       "  <tbody>\n",
       "    <tr>\n",
       "      <th>0</th>\n",
       "      <td>San Marino</td>\n",
       "      <td>741</td>\n",
       "      <td>42</td>\n",
       "      <td>5.7%</td>\n",
       "      <td>124.32</td>\n",
       "    </tr>\n",
       "    <tr>\n",
       "      <th>1</th>\n",
       "      <td>Peru</td>\n",
       "      <td>851171</td>\n",
       "      <td>33357</td>\n",
       "      <td>3.9%</td>\n",
       "      <td>104.28</td>\n",
       "    </tr>\n",
       "    <tr>\n",
       "      <th>2</th>\n",
       "      <td>Belgium</td>\n",
       "      <td>165880</td>\n",
       "      <td>10211</td>\n",
       "      <td>6.2%</td>\n",
       "      <td>89.40</td>\n",
       "    </tr>\n",
       "    <tr>\n",
       "      <th>3</th>\n",
       "      <td>Andorra</td>\n",
       "      <td>2995</td>\n",
       "      <td>57</td>\n",
       "      <td>1.9%</td>\n",
       "      <td>74.02</td>\n",
       "    </tr>\n",
       "    <tr>\n",
       "      <th>4</th>\n",
       "      <td>Bolivia</td>\n",
       "      <td>138695</td>\n",
       "      <td>8326</td>\n",
       "      <td>6.0%</td>\n",
       "      <td>73.34</td>\n",
       "    </tr>\n",
       "    <tr>\n",
       "      <th>...</th>\n",
       "      <td>...</td>\n",
       "      <td>...</td>\n",
       "      <td>...</td>\n",
       "      <td>...</td>\n",
       "      <td>...</td>\n",
       "    </tr>\n",
       "    <tr>\n",
       "      <th>163</th>\n",
       "      <td>Papua New Guinea</td>\n",
       "      <td>565</td>\n",
       "      <td>7</td>\n",
       "      <td>1.2%</td>\n",
       "      <td>0.08</td>\n",
       "    </tr>\n",
       "    <tr>\n",
       "      <th>164</th>\n",
       "      <td>Sri Lanka</td>\n",
       "      <td>4844</td>\n",
       "      <td>13</td>\n",
       "      <td>0.3%</td>\n",
       "      <td>0.06</td>\n",
       "    </tr>\n",
       "    <tr>\n",
       "      <th>165</th>\n",
       "      <td>Tanzania</td>\n",
       "      <td>509</td>\n",
       "      <td>21</td>\n",
       "      <td>4.1%</td>\n",
       "      <td>0.04</td>\n",
       "    </tr>\n",
       "    <tr>\n",
       "      <th>166</th>\n",
       "      <td>Vietnam</td>\n",
       "      <td>1110</td>\n",
       "      <td>35</td>\n",
       "      <td>3.2%</td>\n",
       "      <td>0.04</td>\n",
       "    </tr>\n",
       "    <tr>\n",
       "      <th>167</th>\n",
       "      <td>Taiwan</td>\n",
       "      <td>529</td>\n",
       "      <td>7</td>\n",
       "      <td>1.3%</td>\n",
       "      <td>0.03</td>\n",
       "    </tr>\n",
       "  </tbody>\n",
       "</table>\n",
       "<p>168 rows × 5 columns</p>\n",
       "</div>"
      ],
      "text/plain": [
       "              Country  Confirmed cases  Deaths Case fatality rate  \\\n",
       "0          San Marino              741      42               5.7%   \n",
       "1                Peru           851171   33357               3.9%   \n",
       "2             Belgium           165880   10211               6.2%   \n",
       "3             Andorra             2995      57               1.9%   \n",
       "4             Bolivia           138695    8326               6.0%   \n",
       "..                ...              ...     ...                ...   \n",
       "163  Papua New Guinea              565       7               1.2%   \n",
       "164         Sri Lanka             4844      13               0.3%   \n",
       "165          Tanzania              509      21               4.1%   \n",
       "166           Vietnam             1110      35               3.2%   \n",
       "167            Taiwan              529       7               1.3%   \n",
       "\n",
       "     Deaths per 100,000 population  \n",
       "0                           124.32  \n",
       "1                           104.28  \n",
       "2                            89.40  \n",
       "3                            74.02  \n",
       "4                            73.34  \n",
       "..                             ...  \n",
       "163                           0.08  \n",
       "164                           0.06  \n",
       "165                           0.04  \n",
       "166                           0.04  \n",
       "167                           0.03  \n",
       "\n",
       "[168 rows x 5 columns]"
      ]
     },
     "execution_count": 14,
     "metadata": {},
     "output_type": "execute_result"
    }
   ],
   "source": [
    "tables[2]"
   ]
  },
  {
   "cell_type": "code",
   "execution_count": 15,
   "metadata": {},
   "outputs": [
    {
     "data": {
      "text/plain": [
       "0            San Marino\n",
       "1                  Peru\n",
       "2               Belgium\n",
       "3               Andorra\n",
       "4               Bolivia\n",
       "             ...       \n",
       "163    Papua New Guinea\n",
       "164           Sri Lanka\n",
       "165            Tanzania\n",
       "166             Vietnam\n",
       "167              Taiwan\n",
       "Name: Country, Length: 168, dtype: object"
      ]
     },
     "execution_count": 15,
     "metadata": {},
     "output_type": "execute_result"
    }
   ],
   "source": [
    "tables[2]['Country']"
   ]
  }
 ],
 "metadata": {
  "kernelspec": {
   "display_name": "Python 3",
   "language": "python",
   "name": "python3"
  },
  "language_info": {
   "codemirror_mode": {
    "name": "ipython",
    "version": 3
   },
   "file_extension": ".py",
   "mimetype": "text/x-python",
   "name": "python",
   "nbconvert_exporter": "python",
   "pygments_lexer": "ipython3",
   "version": "3.8.3"
  }
 },
 "nbformat": 4,
 "nbformat_minor": 4
}
